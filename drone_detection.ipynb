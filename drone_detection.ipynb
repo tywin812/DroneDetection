{
 "cells": [
  {
   "cell_type": "code",
   "execution_count": 9,
   "id": "3e2428c3",
   "metadata": {},
   "outputs": [],
   "source": [
    "import os\n",
    "import torch\n",
    "import glob\n",
    "from tqdm import tqdm\n",
    "\n",
    "from torchmetrics.detection.mean_ap import MeanAveragePrecision\n",
    "from ultralytics import YOLO\n",
    "from sahi.predict import get_sliced_prediction\n",
    "from sahi import AutoDetectionModel\n",
    "import matplotlib.pyplot as plt\n",
    "import numpy as np\n",
    "from sahi.utils.cv import read_image"
   ]
  },
  {
   "cell_type": "code",
   "execution_count": 10,
   "id": "9bc19d57",
   "metadata": {},
   "outputs": [],
   "source": [
    "DATASET_YAML = './Heridal_patched/data.yaml'\n",
    "IMG_SIZE = 640\n",
    "BATCH = 8\n",
    "EPOCHS = 300\n",
    "PATIENCE = 30\n",
    "PROJECT = 'runs'\n",
    "RUN_NAME = 'yolov8s_patched'\n",
    "DEVICE = 'cuda' if torch.cuda.is_available() else 'cpu'\n",
    "\n",
    "FULL_IMG_DIR = './Heridal_patched/test/images'\n",
    "FULL_LABEL_DIR = './Heridal_patched/test/labels'\n",
    "CONF_THRESHOLD = 0.5\n",
    "SLICE_OVERLAP = 0.1\n",
    "MODEL_PATH = f'./{PROJECT}/{RUN_NAME}/weights/best.pt'"
   ]
  },
  {
   "cell_type": "code",
   "execution_count": 11,
   "id": "27accec3",
   "metadata": {},
   "outputs": [],
   "source": [
    "def train_model():\n",
    "    torch.cuda.empty_cache() \n",
    "    model = YOLO('/mnt/c/Study/Python/DroneDetection/Heridal_patched/yolov8s.pt')\n",
    "\n",
    "    model.train(\n",
    "        data=DATASET_YAML,\n",
    "        epochs=EPOCHS,\n",
    "        imgsz=IMG_SIZE,\n",
    "        batch=BATCH,\n",
    "        device=DEVICE,\n",
    "        name=RUN_NAME,\n",
    "        project=PROJECT,\n",
    "        workers=2,\n",
    "        patience = PATIENCE,\n",
    "        single_cls=True,\n",
    "    )\n",
    "    return model"
   ]
  },
  {
   "cell_type": "code",
   "execution_count": 12,
   "id": "0ae23a7c",
   "metadata": {},
   "outputs": [],
   "source": [
    "def load_gt_yolo(label_path, img_w, img_h):\n",
    "    boxes = []\n",
    "    if not os.path.exists(label_path): return boxes\n",
    "    with open(label_path) as f:\n",
    "        for line in f:\n",
    "            cls, x, y, w, h = map(float, line.strip().split())\n",
    "            cx, cy = x * img_w, y * img_h\n",
    "            bw, bh = w * img_w, h * img_h\n",
    "            x1, y1 = cx - bw/2, cy - bh/2\n",
    "            x2, y2 = cx + bw/2, cy + bh/2\n",
    "            boxes.append([x1, y1, x2, y2])\n",
    "    return boxes"
   ]
  },
  {
   "cell_type": "code",
   "execution_count": null,
   "id": "ad088526",
   "metadata": {},
   "outputs": [],
   "source": [
    "def evaluate_map50(model_path):\n",
    "    model = AutoDetectionModel.from_pretrained(\n",
    "        model_type=\"yolov8\",\n",
    "        model_path=model_path,\n",
    "        confidence_threshold=CONF_THRESHOLD,\n",
    "        device=DEVICE\n",
    "    )\n",
    "\n",
    "    metric = MeanAveragePrecision()\n",
    "\n",
    "    for img_path in tqdm(sorted(glob.glob(f\"{FULL_IMG_DIR}/*.jpg\"))):\n",
    "        img = read_image(img_path)\n",
    "        h, w = img.shape[:2]\n",
    "\n",
    "        label_path = os.path.join(FULL_LABEL_DIR, os.path.splitext(os.path.basename(img_path))[0] + '.txt')\n",
    "        gt_boxes = load_gt_yolo(label_path, w, h)  \n",
    "        gt_labels = [0] * len(gt_boxes) \n",
    "\n",
    "        result = get_sliced_prediction(\n",
    "            img_path,\n",
    "            detection_model=model,\n",
    "            slice_height=IMG_SIZE,\n",
    "            slice_width=IMG_SIZE,\n",
    "            overlap_height_ratio=SLICE_OVERLAP,\n",
    "            overlap_width_ratio=SLICE_OVERLAP,\n",
    "            verbose=False\n",
    "        )\n",
    "\n",
    "        pred_boxes = []\n",
    "        pred_scores = []\n",
    "        pred_labels = []\n",
    "\n",
    "        for obj in result.object_prediction_list:\n",
    "            pred_boxes.append([\n",
    "                obj.bbox.minx, obj.bbox.miny, obj.bbox.maxx, obj.bbox.maxy\n",
    "            ])\n",
    "            pred_scores.append(obj.score.value)\n",
    "            pred_labels.append(0)  \n",
    "\n",
    "        preds = [{\n",
    "            \"boxes\": torch.tensor(pred_boxes),\n",
    "            \"scores\": torch.tensor(pred_scores),\n",
    "            \"labels\": torch.tensor(pred_labels),\n",
    "        }]\n",
    "        targets = [{\n",
    "            \"boxes\": torch.tensor(gt_boxes),\n",
    "            \"labels\": torch.tensor(gt_labels),\n",
    "        }]\n",
    "\n",
    "        metric.update(preds, targets)\n",
    "\n",
    "    result = metric.compute()\n",
    "    print(\"\\nFinal Evaluation on Full Images\")\n",
    "    print(f\"mAP@0.5:        {result['map_50']:.4f}\")\n",
    "    print(f\"mAP@0.5:0.95:   {result['map']:.4f}\")"
   ]
  },
  {
   "cell_type": "code",
   "execution_count": null,
   "id": "05f2e02c",
   "metadata": {},
   "outputs": [],
   "source": [
    "model = train_model()"
   ]
  },
  {
   "cell_type": "code",
   "execution_count": null,
   "id": "2feaa34c",
   "metadata": {},
   "outputs": [],
   "source": [
    "evaluate_map50('/mnt/c/Study/Python/DroneDetection/runs/yolov8s_auto_augs/weights/best.pt')"
   ]
  }
 ],
 "metadata": {
  "kernelspec": {
   "display_name": "Python 3",
   "language": "python",
   "name": "python3"
  },
  "language_info": {
   "codemirror_mode": {
    "name": "ipython",
    "version": 3
   },
   "file_extension": ".py",
   "mimetype": "text/x-python",
   "name": "python",
   "nbconvert_exporter": "python",
   "pygments_lexer": "ipython3",
   "version": "3.13.2"
  }
 },
 "nbformat": 4,
 "nbformat_minor": 5
}
